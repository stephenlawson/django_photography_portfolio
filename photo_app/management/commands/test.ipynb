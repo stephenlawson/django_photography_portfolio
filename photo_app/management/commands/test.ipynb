{
 "cells": [
  {
   "cell_type": "code",
   "execution_count": 4,
   "metadata": {},
   "outputs": [
    {
     "name": "stdout",
     "output_type": "stream",
     "text": [
      "Expires in 85 days on 26 April 2024\n"
     ]
    }
   ],
   "source": [
    "import re\n",
    "from datetime import datetime\n",
    "\n",
    "certbot_output = \"\"\"Found the following certs: Certificate Name: www.stephen.photography Serial Number: 338c9d72c124d2d232ff4a8dadd82f04a6c Key Type: RSA Domains: www.stephen.photography stephen.photography Expiry Date: 2024-04-26 04:20:37+00:00 (VALID: 85 days) Certificate Path: /etc/letsencrypt/live/www.stephen.photography/fullchain.pem Private Key Path: /etc/letsencrypt/live/www.stephen.photography/privkey.pem - - - - - - - - - - - - - - - - - - - - - - - - - - - - - - - - - - - - - - - -\"\"\"\n",
    "\n",
    "# Define the regular expression pattern\n",
    "pattern = r\"Expiry Date: (\\d{4}-\\d{2}-\\d{2} \\d{2}:\\d{2}:\\d{2})\\+\\d{2}:\\d{2} \\(VALID: (\\d+) days\\)\"\n",
    "\n",
    "# Search for the pattern in the certbot_output\n",
    "match = re.search(pattern, certbot_output)\n",
    "\n",
    "# Extract the matched values\n",
    "if match:\n",
    "    expiry_date = match.group(1)\n",
    "    validity_days = match.group(2)\n",
    "\n",
    "    # Format the expiry date to day month year\n",
    "    expiry_date_formatted = datetime.strptime(expiry_date, \"%Y-%m-%d %H:%M:%S\").strftime(\"%d %B %Y\")\n",
    "\n",
    "    # Print the results\n",
    "    print(f\"Expires in {validity_days} days on {expiry_date_formatted}\")\n",
    "else:\n",
    "    print(\"Pattern not found in the certbot_output.\")\n"
   ]
  },
  {
   "cell_type": "code",
   "execution_count": 17,
   "metadata": {},
   "outputs": [
    {
     "name": "stdout",
     "output_type": "stream",
     "text": [
      "CompletedProcess(args=['wsl', 'ab', '-n', '100', '-c', '10', 'https://stephen.photography/'], returncode=0, stdout='This is ApacheBench, Version 2.3 <$Revision: 1879490 $>\\nCopyright 1996 Adam Twiss, Zeus Technology Ltd, http://www.zeustech.net/\\nLicensed to The Apache Software Foundation, http://www.apache.org/\\n\\nBenchmarking stephen.photography (be patient).....done\\n\\n\\nServer Software:        Apache/2.4.52\\nServer Hostname:        stephen.photography\\nServer Port:            443\\nSSL/TLS Protocol:       TLSv1.2,ECDHE-RSA-AES256-GCM-SHA384,2048,256\\nServer Temp Key:        X25519 253 bits\\nTLS Server Name:        stephen.photography\\n\\nDocument Path:          /\\nDocument Length:        326 bytes\\n\\nConcurrency Level:      10\\nTime taken for tests:   1.987 seconds\\nComplete requests:      100\\nFailed requests:        0\\nNon-2xx responses:      100\\nTotal transferred:      55800 bytes\\nHTML transferred:       32600 bytes\\nRequests per second:    50.32 [#/sec] (mean)\\nTime per request:       198.732 [ms] (mean)\\nTime per request:       19.873 [ms] (mean, across all concurrent requests)\\nTransfer rate:          27.42 [Kbytes/sec] received\\n\\nConnection Times (ms)\\n              min  mean[+/-sd] median   max\\nConnect:      112  133  35.1    121     243\\nProcessing:    36   40   8.6     40     125\\nWaiting:       36   40   8.6     40     124\\nTotal:        148  174  36.1    161     283\\n\\nPercentage of the requests served within a certain time (ms)\\n  50%    161\\n  66%    164\\n  75%    165\\n  80%    166\\n  90%    263\\n  95%    280\\n  98%    281\\n  99%    283\\n 100%    283 (longest request)\\n', stderr='')\n",
      "\n",
      "Time taken for tests: 1.987 seconds\n",
      "Complete requests: 100\n",
      "Failed requests: 0\n",
      "Time per request (mean): 198.732 ms\n",
      "Time per request (mean, across all concurrent requests): 19.873 ms\n",
      "\n",
      "Percentage of the requests served within a certain time (ms):\n",
      "  50% 161\n",
      "  66% 164\n",
      "  75% 165\n",
      "  80% 166\n",
      "  90% 263\n",
      "  95% 280\n",
      "  98% 281\n",
      "  99% 283\n",
      " 100% 283 (longest request)\n",
      "\n"
     ]
    }
   ],
   "source": [
    "import re\n",
    "import subprocess\n",
    "\n",
    "\n",
    "apache_benchmark_output = subprocess.run(['wsl', 'ab', '-n', '100', '-c', '10', 'https://stephen.photography/'], capture_output=True, text=True, check=True)\n",
    "print(apache_benchmark_output)\n",
    "apache_benchmark_output = str(apache_benchmark_output)\n",
    "\n",
    "# Example stdout\n",
    "\n",
    "\n",
    "# Extracting information using regular expressions\n",
    "time_taken = re.search(r'Time taken for tests:\\s+([\\d.]+)\\s+seconds', apache_benchmark_output).group(1)\n",
    "complete_requests = re.search(r'Complete requests:\\s+(\\d+)', apache_benchmark_output).group(1)\n",
    "failed_requests = re.search(r'Failed requests:\\s+(\\d+)', apache_benchmark_output).group(1)\n",
    "\n",
    "time_per_request_mean = re.search(r'Time per request:\\s+([\\d.]+)\\s+\\[ms\\]\\s+\\(mean\\)', apache_benchmark_output).group(1)\n",
    "time_per_request_across_all = re.search(r'Time per request:\\s+([\\d.]+)\\s+\\[ms\\]\\s+\\(mean, across all concurrent requests\\)', apache_benchmark_output).group(1)\n",
    "\n",
    "percentage_requests_served = re.findall(r'(\\d+)%\\s+(\\d+)', apache_benchmark_output)\n",
    "\n",
    "# Create a docstring\n",
    "result_docstring = f\"\"\"\n",
    "Time taken for tests: {time_taken} seconds\n",
    "Complete requests: {complete_requests}\n",
    "Failed requests: {failed_requests}\n",
    "Time per request (mean): {time_per_request_mean} ms\n",
    "Time per request (mean, across all concurrent requests): {time_per_request_across_all} ms\n",
    "\n",
    "Percentage of the requests served within a certain time (ms):\n",
    "  50% {percentage_requests_served[0][1]}\n",
    "  66% {percentage_requests_served[1][1]}\n",
    "  75% {percentage_requests_served[2][1]}\n",
    "  80% {percentage_requests_served[3][1]}\n",
    "  90% {percentage_requests_served[4][1]}\n",
    "  95% {percentage_requests_served[5][1]}\n",
    "  98% {percentage_requests_served[6][1]}\n",
    "  99% {percentage_requests_served[7][1]}\n",
    " 100% {percentage_requests_served[8][1]} (longest request)\n",
    "\"\"\"\n",
    "\n",
    "# Print the result docstring\n",
    "print(result_docstring)\n"
   ]
  },
  {
   "cell_type": "code",
   "execution_count": 27,
   "metadata": {},
   "outputs": [
    {
     "name": "stdout",
     "output_type": "stream",
     "text": [
      "C:\\Users\\taylo\\python_programs-main\\Personal_Projects\\django\\django_portfolio\\requirements.txt\n"
     ]
    },
    {
     "ename": "AttributeError",
     "evalue": "module 'safety' has no attribute 'check'",
     "output_type": "error",
     "traceback": [
      "\u001b[1;31m---------------------------------------------------------------------------\u001b[0m",
      "\u001b[1;31mAttributeError\u001b[0m                            Traceback (most recent call last)",
      "Cell \u001b[1;32mIn[27], line 6\u001b[0m\n\u001b[0;32m      4\u001b[0m requirements_path \u001b[38;5;241m=\u001b[39m \u001b[38;5;124mr\u001b[39m\u001b[38;5;124m'\u001b[39m\u001b[38;5;124mC:\u001b[39m\u001b[38;5;124m\\\u001b[39m\u001b[38;5;124mUsers\u001b[39m\u001b[38;5;124m\\\u001b[39m\u001b[38;5;124mtaylo\u001b[39m\u001b[38;5;124m\\\u001b[39m\u001b[38;5;124mpython_programs-main\u001b[39m\u001b[38;5;124m\\\u001b[39m\u001b[38;5;124mPersonal_Projects\u001b[39m\u001b[38;5;124m\\\u001b[39m\u001b[38;5;124mdjango\u001b[39m\u001b[38;5;124m\\\u001b[39m\u001b[38;5;124mdjango_portfolio\u001b[39m\u001b[38;5;124m\\\u001b[39m\u001b[38;5;124mrequirements.txt\u001b[39m\u001b[38;5;124m'\u001b[39m\n\u001b[0;32m      5\u001b[0m \u001b[38;5;28mprint\u001b[39m(requirements_path)\n\u001b[1;32m----> 6\u001b[0m vulnerabilities \u001b[38;5;241m=\u001b[39m \u001b[43msafety\u001b[49m\u001b[38;5;241;43m.\u001b[39;49m\u001b[43mcheck\u001b[49m(path\u001b[38;5;241m=\u001b[39mrequirements_path)\n\u001b[0;32m      7\u001b[0m \u001b[38;5;28;01mif\u001b[39;00m vulnerabilities:\n\u001b[0;32m      8\u001b[0m     \u001b[38;5;66;03m# Handle vulnerabilities (you may want to send an alert or take action)\u001b[39;00m\n\u001b[0;32m      9\u001b[0m     \u001b[38;5;28mprint\u001b[39m(\u001b[38;5;124m\"\u001b[39m\u001b[38;5;124mSecurity vulnerabilities found:\u001b[39m\u001b[38;5;124m\"\u001b[39m)\n",
      "\u001b[1;31mAttributeError\u001b[0m: module 'safety' has no attribute 'check'"
     ]
    }
   ],
   "source": [
    "import os\n",
    "import safety\n",
    "\n",
    "requirements_path = r'C:\\Users\\taylo\\python_programs-main\\Personal_Projects\\django\\django_portfolio\\requirements.txt'\n",
    "print(requirements_path)\n",
    "vulnerabilities = safety.check(path=requirements_path)\n",
    "if vulnerabilities:\n",
    "    # Handle vulnerabilities (you may want to send an alert or take action)\n",
    "    print(\"Security vulnerabilities found:\")\n",
    "    print(vulnerabilities)"
   ]
  },
  {
   "cell_type": "code",
   "execution_count": 4,
   "metadata": {},
   "outputs": [
    {
     "name": "stdout",
     "output_type": "stream",
     "text": [
      "Safety check failed with error: Command '['safety', 'check']' returned non-zero exit status 64.\n"
     ]
    }
   ],
   "source": [
    "import subprocess\n",
    "try:\n",
    "        subprocess.run(['safety', 'check'], check=True)\n",
    "except subprocess.CalledProcessError as e:\n",
    "        print(f\"Safety check failed with error: {e}\")"
   ]
  }
 ],
 "metadata": {
  "kernelspec": {
   "display_name": "base",
   "language": "python",
   "name": "python3"
  },
  "language_info": {
   "codemirror_mode": {
    "name": "ipython",
    "version": 3
   },
   "file_extension": ".py",
   "mimetype": "text/x-python",
   "name": "python",
   "nbconvert_exporter": "python",
   "pygments_lexer": "ipython3",
   "version": "3.10.9"
  }
 },
 "nbformat": 4,
 "nbformat_minor": 2
}
